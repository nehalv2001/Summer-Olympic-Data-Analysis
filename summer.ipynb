{
 "cells": [
  {
   "cell_type": "markdown",
   "metadata": {},
   "source": [
    "# Summer Olympics Data Analysis Assignment"
   ]
  },
  {
   "cell_type": "markdown",
   "metadata": {},
   "source": [
    "### 1. In how many cities Summer Olympics is held so far?"
   ]
  },
  {
   "cell_type": "code",
   "execution_count": 2,
   "metadata": {},
   "outputs": [
    {
     "data": {
      "text/plain": [
       "22"
      ]
     },
     "execution_count": 2,
     "metadata": {},
     "output_type": "execute_result"
    }
   ],
   "source": [
    "import matplotlib.pyplot as plt\n",
    "import pandas as pd\n",
    "df=pd.read_csv('summer.csv')\n",
    "len(df['City'].unique())"
   ]
  },
  {
   "cell_type": "markdown",
   "metadata": {},
   "source": [
    "### 2. Which sport is having most number of Gold Medals so far? (Top 5)"
   ]
  },
  {
   "cell_type": "code",
   "execution_count": 3,
   "metadata": {},
   "outputs": [
    {
     "data": {
      "image/png": "[encoded data removed]",
      "text/plain": [
       "<Figure size 432x288 with 1 Axes>"
      ]
     },
     "metadata": {
      "needs_background": "light"
     },
     "output_type": "display_data"
    }
   ],
   "source": [
    "dic={}\n",
    "tmp_df=df[df['Medal']=='Gold']\n",
    "for sport in tmp_df['Sport'].unique():\n",
    "    dic[sport]=len(tmp_df[tmp_df['Sport']==sport])\n",
    "dic={k: v for k, v in sorted(dic.items(), key=lambda item: item[1],reverse=True)}\n",
    "i=0\n",
    "x=[]\n",
    "y=[]\n",
    "for key in dic:\n",
    "    if i>=5:\n",
    "        break\n",
    "    x.append(key)\n",
    "    y.append(dic[key])\n",
    "    i+=1\n",
    "plt.bar(x,y)\n",
    "plt.show()"
   ]
  },
  {
   "cell_type": "markdown",
   "metadata": {},
   "source": [
    "### 3. Which sport is having most number of medals so far? (Top 5)"
   ]
  },
  {
   "cell_type": "code",
   "execution_count": 4,
   "metadata": {},
   "outputs": [
    {
     "data": {
      "image/png": "[encoded data removed]",
      "text/plain": [
       "<Figure size 432x288 with 1 Axes>"
      ]
     },
     "metadata": {
      "needs_background": "light"
     },
     "output_type": "display_data"
    }
   ],
   "source": [
    "dic={}\n",
    "for sport in df['Sport'].unique():\n",
    "    dic[sport]=len(df[df['Sport']==sport])\n",
    "dic={k: v for k, v in sorted(dic.items(), key=lambda item: item[1],reverse=True)}\n",
    "i=0\n",
    "x=[]\n",
    "y=[]\n",
    "for key in dic:\n",
    "    if i>=5:\n",
    "        break\n",
    "    x.append(key)\n",
    "    y.append(dic[key])\n",
    "    i+=1\n",
    "plt.bar(x,y)\n",
    "plt.show()"
   ]
  },
  {
   "cell_type": "markdown",
   "metadata": {},
   "source": [
    "### 4. Which player has won most number of medals? (Top 5)"
   ]
  },
  {
   "cell_type": "code",
   "execution_count": 5,
   "metadata": {},
   "outputs": [
    {
     "data": {
      "image/png": "[encoded data removed]",
      "text/plain": [
       "<Figure size 432x288 with 1 Axes>"
      ]
     },
     "metadata": {
      "needs_background": "light"
     },
     "output_type": "display_data"
    }
   ],
   "source": [
    "dic={}\n",
    "df.head()\n",
    "tmp_df=df[df['Medal']=='Gold']\n",
    "tmp_df=tmp_df['Athlete']\n",
    "for name in tmp_df:\n",
    "    try:\n",
    "        dic[name]+=1\n",
    "    except:\n",
    "        dic[name]=1\n",
    "dic={k: v for k, v in sorted(dic.items(), key=lambda item: item[1],reverse=True)}\n",
    "i=0\n",
    "x=[]\n",
    "y=[]\n",
    "for key in dic:\n",
    "    if i>=5:\n",
    "        break\n",
    "    x.append(key)\n",
    "    y.append(dic[key])\n",
    "    i+=1\n",
    "plt.bar(x,y)\n",
    "plt.show()"
   ]
  },
  {
   "cell_type": "markdown",
   "metadata": {},
   "source": [
    "### 5. Which player has won most number Gold Medals of medals? (Top 5)"
   ]
  },
  {
   "cell_type": "code",
   "execution_count": 6,
   "metadata": {},
   "outputs": [
    {
     "data": {
      "image/png": "[encoded data removed]",
      "text/plain": [
       "<Figure size 432x288 with 1 Axes>"
      ]
     },
     "metadata": {
      "needs_background": "light"
     },
     "output_type": "display_data"
    }
   ],
   "source": [
    "dic={}\n",
    "df.head()\n",
    "tmp_df=df[df['Medal']=='Gold']\n",
    "tmp_df=tmp_df['Athlete']\n",
    "for name in tmp_df:\n",
    "    try:\n",
    "        dic[name]+=1\n",
    "    except:\n",
    "        dic[name]=1\n",
    "dic={k: v for k, v in sorted(dic.items(), key=lambda item: item[1],reverse=True)}\n",
    "i=0\n",
    "x=[]\n",
    "y=[]\n",
    "for key in dic:\n",
    "    if i>=5:\n",
    "        break\n",
    "    x.append(key)\n",
    "    y.append(dic[key])\n",
    "    i+=1\n",
    "plt.bar(x,y)\n",
    "plt.show()"
   ]
  },
  {
   "cell_type": "markdown",
   "metadata": {},
   "source": [
    "### 6. In which year India won first Gold Medal in Summer Olympics?"
   ]
  },
  {
   "cell_type": "code",
   "execution_count": 8,
   "metadata": {},
   "outputs": [
    {
     "data": {
      "text/plain": [
       "1928"
      ]
     },
     "execution_count": 8,
     "metadata": {},
     "output_type": "execute_result"
    }
   ],
   "source": [
    "tmp_df=df[df['Medal']=='Gold']\n",
    "tmp_df[tmp_df['Country']=='IND']['Year'].min()"
   ]
  },
  {
   "cell_type": "markdown",
   "metadata": {},
   "source": [
    "### 7. Which event is most popular in terms on number of players? (Top 5)"
   ]
  },
  {
   "cell_type": "code",
   "execution_count": 58,
   "metadata": {},
   "outputs": [
    {
     "data": {
      "image/png": "[encoded data removed]",
      "text/plain": [
       "<Figure size 432x288 with 1 Axes>"
      ]
     },
     "metadata": {
      "needs_background": "light"
     },
     "output_type": "display_data"
    }
   ],
   "source": [
    "dic={}\n",
    "for event in df['Event'].unique():\n",
    "    dic[event]=len(df[df['Event']==event])\n",
    "dic={k: v for k, v in sorted(dic.items(), key=lambda item: item[1],reverse=True)}\n",
    "i=0\n",
    "x=[]\n",
    "y=[]\n",
    "for key in dic:\n",
    "    if i>=5:\n",
    "        break\n",
    "    x.append(key)\n",
    "    y.append(dic[key])\n",
    "    i+=1\n",
    "plt.bar(x,y)\n",
    "plt.show()"
   ]
  },
  {
   "cell_type": "markdown",
   "metadata": {},
   "source": [
    "### 8. Which sport is having most female Gold Medalists? (Top 5)"
   ]
  },
  {
   "cell_type": "code",
   "execution_count": 76,
   "metadata": {},
   "outputs": [
    {
     "data": {
      "image/png": "[encoded data removed]",
      "text/plain": [
       "<Figure size 432x288 with 1 Axes>"
      ]
     },
     "metadata": {
      "needs_background": "light"
     },
     "output_type": "display_data"
    }
   ],
   "source": [
    "dic={}\n",
    "tmp_df=df[df['Gender']=='Women']\n",
    "tmp_df=tmp_df[tmp_df['Medal']=='Gold']\n",
    "for sport in tmp_df['Sport'].unique():\n",
    "    dic[sport]=len(tmp_df['Sport']==sport)\n",
    "dic={k: v for k, v in sorted(dic.items(), key=lambda item: item[1],reverse=True)}\n",
    "i=0\n",
    "x=[]\n",
    "y=[]\n",
    "for key in dic:\n",
    "    if i>=5:\n",
    "        break\n",
    "    x.append(key)\n",
    "    y.append(dic[key])\n",
    "    i+=1\n",
    "plt.bar(x,y)\n",
    "plt.show()"
   ]
  }
 ],
 "metadata": {
  "kernelspec": {
   "display_name": "Python 3",
   "language": "python",
   "name": "python3"
  },
  "language_info": {
   "codemirror_mode": {
    "name": "ipython",
    "version": 3
   },
   "file_extension": ".py",
   "mimetype": "text/x-python",
   "name": "python",
   "nbconvert_exporter": "python",
   "pygments_lexer": "ipython3",
   "version": "3.9.2"
  }
 },
 "nbformat": 4,
 "nbformat_minor": 2
}
